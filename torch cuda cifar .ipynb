{
 "cells": [
  {
   "cell_type": "code",
   "execution_count": 1,
   "id": "692883e9",
   "metadata": {},
   "outputs": [],
   "source": [
    "import torch \n",
    "import torch.nn as nn\n",
    "import torchvision\n",
    "import torchvision.transforms as transforms"
   ]
  },
  {
   "cell_type": "code",
   "execution_count": 2,
   "id": "0bf4534e",
   "metadata": {},
   "outputs": [],
   "source": [
    "device = ('cuda' if torch.cuda.is_available() else 'cpu')"
   ]
  },
  {
   "cell_type": "code",
   "execution_count": 3,
   "id": "de897b30",
   "metadata": {},
   "outputs": [],
   "source": [
    "all_transforms = transforms.Compose([transforms.Resize((32,32)),transforms.ToTensor(),\n",
    "                                      transforms.Normalize(mean = [0.4914,0.4822,0.4465],\n",
    "                                                          std=[0.2023,0.1994,0.2010])])"
   ]
  },
  {
   "cell_type": "code",
   "execution_count": 4,
   "id": "ad032f11",
   "metadata": {},
   "outputs": [
    {
     "name": "stdout",
     "output_type": "stream",
     "text": [
      "Files already downloaded and verified\n"
     ]
    }
   ],
   "source": [
    "train_dataset = torchvision.datasets.CIFAR10(root = '\\data',train = True,transform = all_transforms,download = True)"
   ]
  },
  {
   "cell_type": "code",
   "execution_count": 5,
   "id": "7d7d84a8",
   "metadata": {},
   "outputs": [
    {
     "name": "stdout",
     "output_type": "stream",
     "text": [
      "Files already downloaded and verified\n"
     ]
    }
   ],
   "source": [
    "test_dataset = torchvision.datasets.CIFAR10(root = '\\data',train = False,download = True,transform = all_transforms)"
   ]
  },
  {
   "cell_type": "code",
   "execution_count": 6,
   "id": "e2d745ce",
   "metadata": {},
   "outputs": [],
   "source": [
    "batch_size = 64\n",
    "epochs = 20\n",
    "lr = 0.001\n",
    "num_classes = 10"
   ]
  },
  {
   "cell_type": "code",
   "execution_count": 7,
   "id": "3a730b97",
   "metadata": {},
   "outputs": [],
   "source": [
    "train_loader = torch.utils.data.DataLoader(dataset = train_dataset,batch_size = batch_size,shuffle = True)"
   ]
  },
  {
   "cell_type": "code",
   "execution_count": 8,
   "id": "397c5c2d",
   "metadata": {},
   "outputs": [],
   "source": [
    "test_loader =torch.utils.data.DataLoader(dataset = test_dataset,batch_size = batch_size,shuffle = True)"
   ]
  },
  {
   "cell_type": "code",
   "execution_count": 9,
   "id": "89f69a8a",
   "metadata": {},
   "outputs": [],
   "source": [
    "class CNN(nn.Module):\n",
    "    def __init__(self,num_classes):\n",
    "        super(CNN,self).__init__()\n",
    "        self.cnn1 = nn.Conv2d(in_channels=3,out_channels = 32,kernel_size=3)\n",
    "        self.cnn2 = nn.Conv2d(in_channels=32,out_channels = 32,kernel_size=3)\n",
    "        self.maxpool1 = nn.MaxPool2d(kernel_size=2,stride = 2)\n",
    "        \n",
    "        self.cnn3 = nn.Conv2d(in_channels = 32,out_channels=64,kernel_size=3)\n",
    "        self.cnn4 = nn.Conv2d(in_channels = 64,out_channels=64,kernel_size=3)\n",
    "        self.maxpool2 = nn.MaxPool2d(kernel_size=2,stride=2)\n",
    "        \n",
    "        self.fc1 = nn.Linear(1600,128)\n",
    "        self.relu1 = nn.ReLU()\n",
    "        self.fc2 = nn.Linear(128,num_classes)\n",
    "        \n",
    "    def forward(self,x):\n",
    "        x = self.cnn1(x)\n",
    "        x = self.cnn2(x)\n",
    "        x = self.maxpool1(x)\n",
    "        x = self.cnn3(x)\n",
    "        x = self.cnn4(x)\n",
    "        x = self.maxpool2(x)\n",
    "        x = x.reshape(x.size(0),-1)\n",
    "        x = self.fc1(x)\n",
    "        x = self.relu1(x)\n",
    "        x = self.fc2(x)\n",
    "        return x"
   ]
  },
  {
   "cell_type": "code",
   "execution_count": 11,
   "id": "f7eaf651",
   "metadata": {},
   "outputs": [
    {
     "data": {
      "text/plain": [
       "CNN(\n",
       "  (cnn1): Conv2d(3, 32, kernel_size=(3, 3), stride=(1, 1))\n",
       "  (cnn2): Conv2d(32, 32, kernel_size=(3, 3), stride=(1, 1))\n",
       "  (maxpool1): MaxPool2d(kernel_size=2, stride=2, padding=0, dilation=1, ceil_mode=False)\n",
       "  (cnn3): Conv2d(32, 64, kernel_size=(3, 3), stride=(1, 1))\n",
       "  (cnn4): Conv2d(64, 64, kernel_size=(3, 3), stride=(1, 1))\n",
       "  (maxpool2): MaxPool2d(kernel_size=2, stride=2, padding=0, dilation=1, ceil_mode=False)\n",
       "  (fc1): Linear(in_features=1600, out_features=128, bias=True)\n",
       "  (relu1): ReLU()\n",
       "  (fc2): Linear(in_features=128, out_features=10, bias=True)\n",
       ")"
      ]
     },
     "execution_count": 11,
     "metadata": {},
     "output_type": "execute_result"
    }
   ],
   "source": [
    "model = CNN(num_classes)\n",
    "model.to(device)"
   ]
  },
  {
   "cell_type": "code",
   "execution_count": 12,
   "id": "62da86a5",
   "metadata": {},
   "outputs": [],
   "source": [
    "loss = nn.CrossEntropyLoss()"
   ]
  },
  {
   "cell_type": "code",
   "execution_count": 13,
   "id": "f7cc0b2a",
   "metadata": {},
   "outputs": [],
   "source": [
    "optimizer = torch.optim.SGD(model.parameters(),lr = lr,weight_decay = 0.005,momentum = 0.9)"
   ]
  },
  {
   "cell_type": "code",
   "execution_count": 14,
   "id": "b0b1ea61",
   "metadata": {},
   "outputs": [],
   "source": [
    "total_step = len(train_loader)"
   ]
  },
  {
   "cell_type": "code",
   "execution_count": 15,
   "id": "c6e463a9",
   "metadata": {},
   "outputs": [
    {
     "data": {
      "text/plain": [
       "'cuda'"
      ]
     },
     "execution_count": 15,
     "metadata": {},
     "output_type": "execute_result"
    }
   ],
   "source": [
    "device"
   ]
  },
  {
   "cell_type": "code",
   "execution_count": 19,
   "id": "bfb9ecd7",
   "metadata": {},
   "outputs": [
    {
     "name": "stdout",
     "output_type": "stream",
     "text": [
      "Epoch [1/20], Loss: 1.2107\n",
      "Epoch [2/20], Loss: 1.0993\n",
      "Epoch [3/20], Loss: 1.2231\n",
      "Epoch [4/20], Loss: 1.4987\n",
      "Epoch [5/20], Loss: 1.4061\n",
      "Epoch [6/20], Loss: 0.5872\n",
      "Epoch [7/20], Loss: 1.0338\n",
      "Epoch [8/20], Loss: 0.8155\n",
      "Epoch [9/20], Loss: 0.8702\n",
      "Epoch [10/20], Loss: 0.8161\n",
      "Epoch [11/20], Loss: 0.6221\n",
      "Epoch [12/20], Loss: 0.7173\n",
      "Epoch [13/20], Loss: 0.9381\n",
      "Epoch [14/20], Loss: 0.6037\n",
      "Epoch [15/20], Loss: 0.4948\n",
      "Epoch [16/20], Loss: 0.7875\n",
      "Epoch [17/20], Loss: 0.5585\n",
      "Epoch [18/20], Loss: 0.4966\n",
      "Epoch [19/20], Loss: 0.7505\n",
      "Epoch [20/20], Loss: 0.5378\n"
     ]
    }
   ],
   "source": [
    "for epoch in range(epochs):\n",
    "    for i,(images,labels) in enumerate(train_loader):\n",
    "        images = images.to(device)\n",
    "        labels = labels.to(device)\n",
    "        output = model(images).cuda()\n",
    "        l = loss(output,labels)\n",
    "        optimizer.zero_grad()\n",
    "        l.backward()\n",
    "        optimizer.step()\n",
    "    print('Epoch [{}/{}], Loss: {:.4f}'.format(epoch+1, epochs, l.item()))\n",
    "\n",
    "            \n",
    "            "
   ]
  },
  {
   "cell_type": "code",
   "execution_count": 20,
   "id": "38ab8f7e",
   "metadata": {},
   "outputs": [
    {
     "name": "stdout",
     "output_type": "stream",
     "text": [
      "Accuracy of the network on the 50000 train images: 85.816 % \n"
     ]
    }
   ],
   "source": [
    "with torch.no_grad():\n",
    "    correct = 0\n",
    "    total = 0\n",
    "    for images,labels in train_loader:\n",
    "        images = images.to(device)\n",
    "        labels = labels.to(device)\n",
    "        outputs = model(images)\n",
    "        _,predicted = torch.max(outputs.data,1)\n",
    "        total += labels.size(0)\n",
    "        correct+=(predicted==labels).sum().item()\n",
    "        \n",
    "    print('Accuracy of the network on the {} train images: {} % '.format(50000,100*correct/total))\n",
    "\n",
    "\n"
   ]
  },
  {
   "cell_type": "code",
   "execution_count": null,
   "id": "ee33de26",
   "metadata": {},
   "outputs": [],
   "source": []
  }
 ],
 "metadata": {
  "kernelspec": {
   "display_name": "Python 3 (ipykernel)",
   "language": "python",
   "name": "python3"
  },
  "language_info": {
   "codemirror_mode": {
    "name": "ipython",
    "version": 3
   },
   "file_extension": ".py",
   "mimetype": "text/x-python",
   "name": "python",
   "nbconvert_exporter": "python",
   "pygments_lexer": "ipython3",
   "version": "3.8.16"
  }
 },
 "nbformat": 4,
 "nbformat_minor": 5
}
